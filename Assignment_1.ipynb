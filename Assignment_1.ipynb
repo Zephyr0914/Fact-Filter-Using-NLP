{
 "cells": [
  {
   "cell_type": "markdown",
   "metadata": {},
   "source": [
    "### Sujal Aggarwal   231047"
   ]
  },
  {
   "cell_type": "code",
   "execution_count": 33,
   "metadata": {},
   "outputs": [],
   "source": [
    "import pandas as pd  #Importing Necessary Libraries\n",
    "import numpy as np"
   ]
  },
  {
   "cell_type": "code",
   "execution_count": 34,
   "metadata": {},
   "outputs": [],
   "source": [
    "df1=pd.read_csv(r\"C:\\Users\\Sujal\\Downloads\\train.csv\\train.csv\")  #Reading Training Dataset\n",
    "df2=pd.read_csv(r\"C:\\Users\\Sujal\\Downloads\\test.csv\\test.csv\")    #Reading Testing Dataset"
   ]
  },
  {
   "cell_type": "code",
   "execution_count": 35,
   "metadata": {},
   "outputs": [],
   "source": [
    "data=[df1,df2]    #Combining the two Dataframes\n",
    "result=pd.concat(data,ignore_index=True)"
   ]
  },
  {
   "cell_type": "code",
   "execution_count": 36,
   "metadata": {},
   "outputs": [
    {
     "data": {
      "text/html": [
       "<div>\n",
       "<style scoped>\n",
       "    .dataframe tbody tr th:only-of-type {\n",
       "        vertical-align: middle;\n",
       "    }\n",
       "\n",
       "    .dataframe tbody tr th {\n",
       "        vertical-align: top;\n",
       "    }\n",
       "\n",
       "    .dataframe thead th {\n",
       "        text-align: right;\n",
       "    }\n",
       "</style>\n",
       "<table border=\"1\" class=\"dataframe\">\n",
       "  <thead>\n",
       "    <tr style=\"text-align: right;\">\n",
       "      <th></th>\n",
       "      <th>Class Index</th>\n",
       "      <th>Title</th>\n",
       "      <th>Description</th>\n",
       "    </tr>\n",
       "  </thead>\n",
       "  <tbody>\n",
       "    <tr>\n",
       "      <th>0</th>\n",
       "      <td>3</td>\n",
       "      <td>Wall St. Bears Claw Back Into the Black (Reuters)</td>\n",
       "      <td>Reuters - Short-sellers, Wall Street's dwindli...</td>\n",
       "    </tr>\n",
       "    <tr>\n",
       "      <th>1</th>\n",
       "      <td>3</td>\n",
       "      <td>Carlyle Looks Toward Commercial Aerospace (Reu...</td>\n",
       "      <td>Reuters - Private investment firm Carlyle Grou...</td>\n",
       "    </tr>\n",
       "    <tr>\n",
       "      <th>2</th>\n",
       "      <td>3</td>\n",
       "      <td>Oil and Economy Cloud Stocks' Outlook (Reuters)</td>\n",
       "      <td>Reuters - Soaring crude prices plus worries\\ab...</td>\n",
       "    </tr>\n",
       "    <tr>\n",
       "      <th>3</th>\n",
       "      <td>3</td>\n",
       "      <td>Iraq Halts Oil Exports from Main Southern Pipe...</td>\n",
       "      <td>Reuters - Authorities have halted oil export\\f...</td>\n",
       "    </tr>\n",
       "    <tr>\n",
       "      <th>4</th>\n",
       "      <td>3</td>\n",
       "      <td>Oil prices soar to all-time record, posing new...</td>\n",
       "      <td>AFP - Tearaway world oil prices, toppling reco...</td>\n",
       "    </tr>\n",
       "    <tr>\n",
       "      <th>5</th>\n",
       "      <td>3</td>\n",
       "      <td>Stocks End Up, But Near Year Lows (Reuters)</td>\n",
       "      <td>Reuters - Stocks ended slightly higher on Frid...</td>\n",
       "    </tr>\n",
       "    <tr>\n",
       "      <th>6</th>\n",
       "      <td>3</td>\n",
       "      <td>Money Funds Fell in Latest Week (AP)</td>\n",
       "      <td>AP - Assets of the nation's retail money marke...</td>\n",
       "    </tr>\n",
       "    <tr>\n",
       "      <th>7</th>\n",
       "      <td>3</td>\n",
       "      <td>Fed minutes show dissent over inflation (USATO...</td>\n",
       "      <td>USATODAY.com - Retail sales bounced back a bit...</td>\n",
       "    </tr>\n",
       "    <tr>\n",
       "      <th>8</th>\n",
       "      <td>3</td>\n",
       "      <td>Safety Net (Forbes.com)</td>\n",
       "      <td>Forbes.com - After earning a PH.D. in Sociolog...</td>\n",
       "    </tr>\n",
       "    <tr>\n",
       "      <th>9</th>\n",
       "      <td>3</td>\n",
       "      <td>Wall St. Bears Claw Back Into the Black</td>\n",
       "      <td>NEW YORK (Reuters) - Short-sellers, Wall Stre...</td>\n",
       "    </tr>\n",
       "  </tbody>\n",
       "</table>\n",
       "</div>"
      ],
      "text/plain": [
       "   Class Index                                              Title  \\\n",
       "0            3  Wall St. Bears Claw Back Into the Black (Reuters)   \n",
       "1            3  Carlyle Looks Toward Commercial Aerospace (Reu...   \n",
       "2            3    Oil and Economy Cloud Stocks' Outlook (Reuters)   \n",
       "3            3  Iraq Halts Oil Exports from Main Southern Pipe...   \n",
       "4            3  Oil prices soar to all-time record, posing new...   \n",
       "5            3        Stocks End Up, But Near Year Lows (Reuters)   \n",
       "6            3               Money Funds Fell in Latest Week (AP)   \n",
       "7            3  Fed minutes show dissent over inflation (USATO...   \n",
       "8            3                            Safety Net (Forbes.com)   \n",
       "9            3            Wall St. Bears Claw Back Into the Black   \n",
       "\n",
       "                                         Description  \n",
       "0  Reuters - Short-sellers, Wall Street's dwindli...  \n",
       "1  Reuters - Private investment firm Carlyle Grou...  \n",
       "2  Reuters - Soaring crude prices plus worries\\ab...  \n",
       "3  Reuters - Authorities have halted oil export\\f...  \n",
       "4  AFP - Tearaway world oil prices, toppling reco...  \n",
       "5  Reuters - Stocks ended slightly higher on Frid...  \n",
       "6  AP - Assets of the nation's retail money marke...  \n",
       "7  USATODAY.com - Retail sales bounced back a bit...  \n",
       "8  Forbes.com - After earning a PH.D. in Sociolog...  \n",
       "9   NEW YORK (Reuters) - Short-sellers, Wall Stre...  "
      ]
     },
     "execution_count": 36,
     "metadata": {},
     "output_type": "execute_result"
    }
   ],
   "source": [
    "result.head(10)  #First 10 Rows of Dataset"
   ]
  },
  {
   "cell_type": "code",
   "execution_count": 37,
   "metadata": {},
   "outputs": [
    {
     "data": {
      "text/html": [
       "<div>\n",
       "<style scoped>\n",
       "    .dataframe tbody tr th:only-of-type {\n",
       "        vertical-align: middle;\n",
       "    }\n",
       "\n",
       "    .dataframe tbody tr th {\n",
       "        vertical-align: top;\n",
       "    }\n",
       "\n",
       "    .dataframe thead th {\n",
       "        text-align: right;\n",
       "    }\n",
       "</style>\n",
       "<table border=\"1\" class=\"dataframe\">\n",
       "  <thead>\n",
       "    <tr style=\"text-align: right;\">\n",
       "      <th></th>\n",
       "      <th>Class Index</th>\n",
       "      <th>Title</th>\n",
       "      <th>Description</th>\n",
       "    </tr>\n",
       "  </thead>\n",
       "  <tbody>\n",
       "    <tr>\n",
       "      <th>127590</th>\n",
       "      <td>2</td>\n",
       "      <td>Saban hiring on hold</td>\n",
       "      <td>DAVIE - The Dolphins want Nick Saban, and the ...</td>\n",
       "    </tr>\n",
       "    <tr>\n",
       "      <th>127591</th>\n",
       "      <td>1</td>\n",
       "      <td>Bosnian-Serb prime minister resigns in protest...</td>\n",
       "      <td>Canadian Press - BANJA LUKA, Bosnia-Herzegovin...</td>\n",
       "    </tr>\n",
       "    <tr>\n",
       "      <th>127592</th>\n",
       "      <td>1</td>\n",
       "      <td>Historic Turkey-EU deal welcomed</td>\n",
       "      <td>The European Union's decision to hold entry ta...</td>\n",
       "    </tr>\n",
       "    <tr>\n",
       "      <th>127593</th>\n",
       "      <td>2</td>\n",
       "      <td>Mortaza strikes to lead superb Bangladesh rally</td>\n",
       "      <td>Paceman Mashrafe Mortaza claimed two prize sca...</td>\n",
       "    </tr>\n",
       "    <tr>\n",
       "      <th>127594</th>\n",
       "      <td>1</td>\n",
       "      <td>Powell pushes diplomacy for N. Korea</td>\n",
       "      <td>WASHINGTON -- Outgoing Secretary of State Coli...</td>\n",
       "    </tr>\n",
       "    <tr>\n",
       "      <th>127595</th>\n",
       "      <td>1</td>\n",
       "      <td>Around the world</td>\n",
       "      <td>Ukrainian presidential candidate Viktor Yushch...</td>\n",
       "    </tr>\n",
       "    <tr>\n",
       "      <th>127596</th>\n",
       "      <td>2</td>\n",
       "      <td>Void is filled with Clement</td>\n",
       "      <td>With the supply of attractive pitching options...</td>\n",
       "    </tr>\n",
       "    <tr>\n",
       "      <th>127597</th>\n",
       "      <td>2</td>\n",
       "      <td>Martinez leaves bitter</td>\n",
       "      <td>Like Roger Clemens did almost exactly eight ye...</td>\n",
       "    </tr>\n",
       "    <tr>\n",
       "      <th>127598</th>\n",
       "      <td>3</td>\n",
       "      <td>5 of arthritis patients in Singapore take Bext...</td>\n",
       "      <td>SINGAPORE : Doctors in the United States have ...</td>\n",
       "    </tr>\n",
       "    <tr>\n",
       "      <th>127599</th>\n",
       "      <td>3</td>\n",
       "      <td>EBay gets into rentals</td>\n",
       "      <td>EBay plans to buy the apartment and home renta...</td>\n",
       "    </tr>\n",
       "  </tbody>\n",
       "</table>\n",
       "</div>"
      ],
      "text/plain": [
       "        Class Index                                              Title  \\\n",
       "127590            2                               Saban hiring on hold   \n",
       "127591            1  Bosnian-Serb prime minister resigns in protest...   \n",
       "127592            1                   Historic Turkey-EU deal welcomed   \n",
       "127593            2    Mortaza strikes to lead superb Bangladesh rally   \n",
       "127594            1               Powell pushes diplomacy for N. Korea   \n",
       "127595            1                                   Around the world   \n",
       "127596            2                        Void is filled with Clement   \n",
       "127597            2                             Martinez leaves bitter   \n",
       "127598            3  5 of arthritis patients in Singapore take Bext...   \n",
       "127599            3                             EBay gets into rentals   \n",
       "\n",
       "                                              Description  \n",
       "127590  DAVIE - The Dolphins want Nick Saban, and the ...  \n",
       "127591  Canadian Press - BANJA LUKA, Bosnia-Herzegovin...  \n",
       "127592  The European Union's decision to hold entry ta...  \n",
       "127593  Paceman Mashrafe Mortaza claimed two prize sca...  \n",
       "127594  WASHINGTON -- Outgoing Secretary of State Coli...  \n",
       "127595  Ukrainian presidential candidate Viktor Yushch...  \n",
       "127596  With the supply of attractive pitching options...  \n",
       "127597  Like Roger Clemens did almost exactly eight ye...  \n",
       "127598  SINGAPORE : Doctors in the United States have ...  \n",
       "127599  EBay plans to buy the apartment and home renta...  "
      ]
     },
     "execution_count": 37,
     "metadata": {},
     "output_type": "execute_result"
    }
   ],
   "source": [
    "result.tail(10)  #Last 10 Rows of Dataset"
   ]
  },
  {
   "cell_type": "code",
   "execution_count": 38,
   "metadata": {},
   "outputs": [
    {
     "data": {
      "text/plain": [
       "Class Index    0\n",
       "Title          0\n",
       "Description    0\n",
       "dtype: int64"
      ]
     },
     "execution_count": 38,
     "metadata": {},
     "output_type": "execute_result"
    }
   ],
   "source": [
    "result.isnull().sum()  #Checking for Missing values in Dataset"
   ]
  },
  {
   "cell_type": "code",
   "execution_count": 39,
   "metadata": {},
   "outputs": [
    {
     "data": {
      "text/plain": [
       "(127600, 3)"
      ]
     },
     "execution_count": 39,
     "metadata": {},
     "output_type": "execute_result"
    }
   ],
   "source": [
    "result.shape   #Shape of Dataset"
   ]
  },
  {
   "cell_type": "code",
   "execution_count": 40,
   "metadata": {},
   "outputs": [
    {
     "data": {
      "text/plain": [
       "(127590, 3)"
      ]
     },
     "execution_count": 40,
     "metadata": {},
     "output_type": "execute_result"
    }
   ],
   "source": [
    "result1=result.drop([0,1,2,3,4,5,6,7,8,9])  #Removing the first 10 rows of Dataset\n",
    "result1.shape     #New Shape of the Dataset"
   ]
  },
  {
   "cell_type": "code",
   "execution_count": 41,
   "metadata": {},
   "outputs": [
    {
     "data": {
      "text/html": [
       "<div>\n",
       "<style scoped>\n",
       "    .dataframe tbody tr th:only-of-type {\n",
       "        vertical-align: middle;\n",
       "    }\n",
       "\n",
       "    .dataframe tbody tr th {\n",
       "        vertical-align: top;\n",
       "    }\n",
       "\n",
       "    .dataframe thead th {\n",
       "        text-align: right;\n",
       "    }\n",
       "</style>\n",
       "<table border=\"1\" class=\"dataframe\">\n",
       "  <thead>\n",
       "    <tr style=\"text-align: right;\">\n",
       "      <th></th>\n",
       "      <th>Class Index</th>\n",
       "      <th>Title</th>\n",
       "      <th>Description</th>\n",
       "    </tr>\n",
       "  </thead>\n",
       "  <tbody>\n",
       "    <tr>\n",
       "      <th>121402</th>\n",
       "      <td>1</td>\n",
       "      <td>China's worst floods in a century kill at leas...</td>\n",
       "      <td>BEIJING -- China's Sichuan province faced the ...</td>\n",
       "    </tr>\n",
       "    <tr>\n",
       "      <th>2006</th>\n",
       "      <td>2</td>\n",
       "      <td>UAE, India hit Olympic firsts</td>\n",
       "      <td>ATHENS  The United Arab Emirates and India sco...</td>\n",
       "    </tr>\n",
       "    <tr>\n",
       "      <th>102394</th>\n",
       "      <td>2</td>\n",
       "      <td>Russia about to face France</td>\n",
       "      <td>Russia will meet defending champion France in ...</td>\n",
       "    </tr>\n",
       "    <tr>\n",
       "      <th>116123</th>\n",
       "      <td>4</td>\n",
       "      <td>Microsoft Issues Five Bulletins on Windows Flaws</td>\n",
       "      <td>Desktops, servers affected, but no vulnerabili...</td>\n",
       "    </tr>\n",
       "    <tr>\n",
       "      <th>41953</th>\n",
       "      <td>3</td>\n",
       "      <td>RISE SALLIE, RISE</td>\n",
       "      <td>Sallie Krawcheck #39;s star got brighter yeste...</td>\n",
       "    </tr>\n",
       "    <tr>\n",
       "      <th>...</th>\n",
       "      <td>...</td>\n",
       "      <td>...</td>\n",
       "      <td>...</td>\n",
       "    </tr>\n",
       "    <tr>\n",
       "      <th>42933</th>\n",
       "      <td>3</td>\n",
       "      <td>Motorola cutting 1,000 jobs</td>\n",
       "      <td>Motorola Inc. announced Tuesday plans to cut 1...</td>\n",
       "    </tr>\n",
       "    <tr>\n",
       "      <th>61395</th>\n",
       "      <td>4</td>\n",
       "      <td>Photo 2 of 2: Microsoft's fashion makeover</td>\n",
       "      <td>Wood paneling and chrome dominate one of two s...</td>\n",
       "    </tr>\n",
       "    <tr>\n",
       "      <th>41665</th>\n",
       "      <td>4</td>\n",
       "      <td>HP sinks utility project, lays off some workers</td>\n",
       "      <td>Firm to sell Utility Data Center package as se...</td>\n",
       "    </tr>\n",
       "    <tr>\n",
       "      <th>14276</th>\n",
       "      <td>3</td>\n",
       "      <td>Federal-Mogul may sell T amp;N assets after pe...</td>\n",
       "      <td>Federal-Mogul, the engineering company whose b...</td>\n",
       "    </tr>\n",
       "    <tr>\n",
       "      <th>124142</th>\n",
       "      <td>2</td>\n",
       "      <td>Franklin claims a test hat-trick</td>\n",
       "      <td>DHAKA, Bangladesh -- James Franklin became the...</td>\n",
       "    </tr>\n",
       "  </tbody>\n",
       "</table>\n",
       "<p>127590 rows × 3 columns</p>\n",
       "</div>"
      ],
      "text/plain": [
       "        Class Index                                              Title  \\\n",
       "121402            1  China's worst floods in a century kill at leas...   \n",
       "2006              2                      UAE, India hit Olympic firsts   \n",
       "102394            2                        Russia about to face France   \n",
       "116123            4   Microsoft Issues Five Bulletins on Windows Flaws   \n",
       "41953             3                                  RISE SALLIE, RISE   \n",
       "...             ...                                                ...   \n",
       "42933             3                        Motorola cutting 1,000 jobs   \n",
       "61395             4         Photo 2 of 2: Microsoft's fashion makeover   \n",
       "41665             4    HP sinks utility project, lays off some workers   \n",
       "14276             3  Federal-Mogul may sell T amp;N assets after pe...   \n",
       "124142            2                   Franklin claims a test hat-trick   \n",
       "\n",
       "                                              Description  \n",
       "121402  BEIJING -- China's Sichuan province faced the ...  \n",
       "2006    ATHENS  The United Arab Emirates and India sco...  \n",
       "102394  Russia will meet defending champion France in ...  \n",
       "116123  Desktops, servers affected, but no vulnerabili...  \n",
       "41953   Sallie Krawcheck #39;s star got brighter yeste...  \n",
       "...                                                   ...  \n",
       "42933   Motorola Inc. announced Tuesday plans to cut 1...  \n",
       "61395   Wood paneling and chrome dominate one of two s...  \n",
       "41665   Firm to sell Utility Data Center package as se...  \n",
       "14276   Federal-Mogul, the engineering company whose b...  \n",
       "124142  DHAKA, Bangladesh -- James Franklin became the...  \n",
       "\n",
       "[127590 rows x 3 columns]"
      ]
     },
     "execution_count": 41,
     "metadata": {},
     "output_type": "execute_result"
    }
   ],
   "source": [
    "result2=result1.sample(n=len(result1))  #Random shuffling of the Dataset\n",
    "result2"
   ]
  },
  {
   "cell_type": "code",
   "execution_count": 42,
   "metadata": {},
   "outputs": [],
   "source": [
    "n=df1.shape[0]         #Splitting the dataset into Training and Testing Datasets\n",
    "traindf=result1.loc[:n-1,:]\n",
    "testdf=result1.loc[n:,:]"
   ]
  },
  {
   "cell_type": "code",
   "execution_count": 43,
   "metadata": {},
   "outputs": [
    {
     "data": {
      "text/plain": [
       "(119990, 3)"
      ]
     },
     "execution_count": 43,
     "metadata": {},
     "output_type": "execute_result"
    }
   ],
   "source": [
    "traindf.shape  #Training Dataset Shape"
   ]
  },
  {
   "cell_type": "code",
   "execution_count": 44,
   "metadata": {},
   "outputs": [
    {
     "data": {
      "text/plain": [
       "(7600, 3)"
      ]
     },
     "execution_count": 44,
     "metadata": {},
     "output_type": "execute_result"
    }
   ],
   "source": [
    "testdf.shape  #Testing Dataset Shape"
   ]
  }
 ],
 "metadata": {
  "kernelspec": {
   "display_name": ".venv",
   "language": "python",
   "name": "python3"
  },
  "language_info": {
   "codemirror_mode": {
    "name": "ipython",
    "version": 3
   },
   "file_extension": ".py",
   "mimetype": "text/x-python",
   "name": "python",
   "nbconvert_exporter": "python",
   "pygments_lexer": "ipython3",
   "version": "3.12.3"
  }
 },
 "nbformat": 4,
 "nbformat_minor": 2
}
